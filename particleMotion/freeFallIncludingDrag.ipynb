{
 "cells": [
  {
   "cell_type": "markdown",
   "metadata": {},
   "source": [
    "# Free fall considering drag\n",
    "This code ilustrates one-dimensional particle kinematics by studying classical projectile launch.\n",
    "\n",
    "By:\n",
    "**Juan A. Ramírez Macías**  \n",
    "*Mech. Eng. Professor*  \n",
    "*Universidad Pontificia Bolivariana*"
   ]
  },
  {
   "cell_type": "markdown",
   "metadata": {},
   "source": [
    "## Modules"
   ]
  },
  {
   "cell_type": "code",
   "execution_count": 18,
   "metadata": {
    "collapsed": true
   },
   "outputs": [],
   "source": [
    "import numpy as np\n",
    "%matplotlib inline\n",
    "import matplotlib.pyplot as plt"
   ]
  },
  {
   "cell_type": "markdown",
   "metadata": {},
   "source": [
    "## Parameters"
   ]
  },
  {
   "cell_type": "code",
   "execution_count": 19,
   "metadata": {
    "collapsed": false
   },
   "outputs": [
    {
     "name": "stdout",
     "output_type": "stream",
     "text": [
      "Ka: 0.129197997879 m^(-1)\n"
     ]
    }
   ],
   "source": [
    "# Initial condition at t = 0\n",
    "# Position\n",
    "y0 = 0.0\n",
    "# Velocity\n",
    "v0 = 2.0 # m/s\n",
    "\n",
    "# Gravity\n",
    "g = 9.8 # m/s^2\n",
    "\n",
    "# Drag-related parameters\n",
    "# Density\n",
    "rho = 1.225 # kg/m^3\n",
    "# Mass\n",
    "m = 2.8e-3 # kg\n",
    "# Diameter\n",
    "d = 40.e-3 # m\n",
    "# Projected area\n",
    "A = np.pi * d ** 2 / 4. # m^2\n",
    "# Drag coefficient\n",
    "Cd = 0.47 # non-dimensional\n",
    "# Drag constant\n",
    "Ka = 0.5 * rho * A * Cd / m # m^(-1)\n",
    "\n",
    "print \"Ka:\", Ka, \"m^(-1)\""
   ]
  },
  {
   "cell_type": "markdown",
   "metadata": {},
   "source": [
    "## Free fall, no drag"
   ]
  },
  {
   "cell_type": "code",
   "execution_count": 20,
   "metadata": {
    "collapsed": false
   },
   "outputs": [],
   "source": [
    "# Free-fall model\n",
    "# Final time\n",
    "tf = 0.3 # s\n",
    "# Time-step\n",
    "dt = 0.01 # s\n",
    "\n",
    "# Time in seconds\n",
    "t1 = np.arange(0., tf + dt, dt)\n",
    "\n",
    "# Position in meters\n",
    "y1 = y0 + v0 * t1 - 0.5 * g * t1 ** 2\n",
    "\n",
    "# Velocity in m/s\n",
    "v1 = v0 - g * t1"
   ]
  },
  {
   "cell_type": "markdown",
   "metadata": {},
   "source": [
    "## Launch up, including drag"
   ]
  },
  {
   "cell_type": "markdown",
   "metadata": {},
   "source": [
    "### Max height\n",
    "$$y_{\\max} = \\frac{1}{k} \\operatorname{ln} \\left( 1 + \\frac{k}{g} v_0^2 \\right)$$"
   ]
  },
  {
   "cell_type": "code",
   "execution_count": 21,
   "metadata": {
    "collapsed": false,
    "scrolled": true
   },
   "outputs": [
    {
     "name": "stdout",
     "output_type": "stream",
     "text": [
      "0.198882619546\n"
     ]
    }
   ],
   "source": [
    "ymax = np.log(1. + Ka / g * v0 ** 2) / 2. / Ka\n",
    "print ymax"
   ]
  },
  {
   "cell_type": "markdown",
   "metadata": {},
   "source": [
    "### Velocity as a function of position\n",
    "$$v(y) = \\sqrt{\\left( \\frac{g}{k} + v_0^2 \\right) \\operatorname{e} ^ { - 2 k y } - \\frac{g}{k}}$$"
   ]
  },
  {
   "cell_type": "code",
   "execution_count": 22,
   "metadata": {
    "collapsed": true
   },
   "outputs": [],
   "source": [
    "dy = 0.001 # m\n",
    "y2 = np.arange(0., ymax, dy)\n",
    "v2y = np.sqrt(((g / Ka + v0 ** 2) * np.exp(-2. * Ka * y2)) - g / Ka)"
   ]
  },
  {
   "cell_type": "markdown",
   "metadata": {},
   "source": [
    "### Time to max height\n",
    "$$ t_{\\max} = \\frac{1}{\\sqrt{k g}} \\tan^{-1}\\left( \\sqrt{\\frac{k}{g}} v_0 \\right)$$"
   ]
  },
  {
   "cell_type": "code",
   "execution_count": 23,
   "metadata": {
    "collapsed": false
   },
   "outputs": [
    {
     "name": "stdout",
     "output_type": "stream",
     "text": [
      "1.39597919994 0.200603691395\n"
     ]
    }
   ],
   "source": [
    "tmax = 1. / np.sqrt(Ka * g) * np.arctan(np.sqrt(Ka / g) * v0)\n",
    "tinf = np.pi / 2. / np.sqrt(g * Ka)\n",
    "print tinf, tmax"
   ]
  },
  {
   "cell_type": "markdown",
   "metadata": {},
   "source": [
    "### Velocity as a function of time\n",
    "$$v(t) = \\frac{v_0 - \\sqrt{g / k} \\tan \\left(\\sqrt{g k} t \\right)} {1 + v_0 \\sqrt{k / g} \\tan \\left(\\sqrt{g k} t \\right)}$$"
   ]
  },
  {
   "cell_type": "code",
   "execution_count": 24,
   "metadata": {
    "collapsed": false
   },
   "outputs": [],
   "source": [
    "t2 = np.arange(0., tmax, dt)\n",
    "#v2 = np.sqrt(g / Ka) * np.tan(- np.sqrt(g * Ka) * t2 + np.arctan(np.sqrt(Ka / g) * v0))\n",
    "v2 = (v0 - np.sqrt(g / Ka) * np.tan(np.sqrt(g * Ka) * t2)) / (1. + v0 * np.sqrt(Ka / g) * np.tan(np.sqrt(g * Ka) * t2))"
   ]
  },
  {
   "cell_type": "markdown",
   "metadata": {},
   "source": [
    "### Numerical solution"
   ]
  },
  {
   "cell_type": "code",
   "execution_count": 25,
   "metadata": {
    "collapsed": false
   },
   "outputs": [],
   "source": [
    "# Sample time\n",
    "h = 0.01 # s\n",
    "\n",
    "# Time array\n",
    "t_k = np.arange(0., tf + h, h)\n",
    "\n",
    "# Empty arrays\n",
    "# Velocity\n",
    "V_k = np.zeros_like(t_k)\n",
    "# Position\n",
    "y_k = np.zeros_like(t_k)\n",
    "\n",
    "# Initial velocity\n",
    "V_k[0] = v0\n",
    "# Initial position\n",
    "y_k[0] = y0\n",
    "\n",
    "# Loop to compute the discrete problem\n",
    "for k in range(len(t_k) - 1):\n",
    "    # Acceleration\n",
    "    a = - g - Ka * V_k[k] * np.abs(V_k[k])\n",
    "    \n",
    "    # Velocity\n",
    "    V_k[k+1] = V_k[k] + h * a\n",
    "    \n",
    "    # Position\n",
    "    y_k[k+1] = y_k[k] + h * 0.5 * (V_k[k] + V_k[k+1])"
   ]
  },
  {
   "cell_type": "markdown",
   "metadata": {},
   "source": [
    "## Plots\n",
    "### Time plots"
   ]
  },
  {
   "cell_type": "code",
   "execution_count": 26,
   "metadata": {
    "collapsed": false
   },
   "outputs": [
    {
     "data": {
      "image/png": "[encoded data removed]",
      "text/plain": [
       "<matplotlib.figure.Figure at 0x772c128>"
      ]
     },
     "metadata": {},
     "output_type": "display_data"
    }
   ],
   "source": [
    "plt.figure()\n",
    "\n",
    "# Position\n",
    "plt.subplot(211)\n",
    "plt.plot(t1, y1)\n",
    "plt.plot(t_k, y_k, ':C1')\n",
    "plt.ylabel('$x$, $y$ (m)')\n",
    "plt.legend(['no drag', 'drag (numerical)'])\n",
    "plt.grid()\n",
    "\n",
    "# Velocity\n",
    "plt.subplot(212)\n",
    "plt.plot(t1, v1, 'C0')\n",
    "plt.plot(t_k, V_k, ':C1')\n",
    "plt.plot(t2, v2, '--C2')\n",
    "plt.xlabel('t (s)')\n",
    "plt.ylabel('$V_x$, $V_y$ (m/s)')\n",
    "plt.legend(['no drag', 'drag (analytic)', 'drag (numerical)'])\n",
    "plt.grid()\n",
    "plt.show()"
   ]
  },
  {
   "cell_type": "markdown",
   "metadata": {},
   "source": [
    "### Velocity as a function of position"
   ]
  },
  {
   "cell_type": "code",
   "execution_count": 27,
   "metadata": {
    "collapsed": false
   },
   "outputs": [
    {
     "data": {
      "image/png": "[encoded data removed]",
      "text/plain": [
       "<matplotlib.figure.Figure at 0x74850f0>"
      ]
     },
     "metadata": {},
     "output_type": "display_data"
    }
   ],
   "source": [
    "plt.figure()\n",
    "# No drag\n",
    "plt.plot(y1, v1)\n",
    "# Drag, analytical\n",
    "plt.plot(y2, v2y, ':C0')\n",
    "# Drag, numerical\n",
    "plt.plot(y_k, V_k, '--C1')\n",
    "# Axes settings\n",
    "plt.xlabel('$y$ (m)')\n",
    "plt.ylabel('$V$ (m/s)')\n",
    "plt.legend(['no drag', 'drag (analytic)', 'drag (numerical)', '$V_y$ drag'])\n",
    "plt.grid()\n",
    "plt.show()"
   ]
  }
 ],
 "metadata": {
  "kernelspec": {
   "display_name": "Python 2",
   "language": "python",
   "name": "python2"
  },
  "language_info": {
   "codemirror_mode": {
    "name": "ipython",
    "version": 2
   },
   "file_extension": ".py",
   "mimetype": "text/x-python",
   "name": "python",
   "nbconvert_exporter": "python",
   "pygments_lexer": "ipython2",
   "version": "2.7.13"
  }
 },
 "nbformat": 4,
 "nbformat_minor": 2
}
