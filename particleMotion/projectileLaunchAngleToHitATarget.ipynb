{
 "cells": [
  {
   "cell_type": "markdown",
   "metadata": {},
   "source": [
    "# Projectile launch: angles to hit a target\n",
    "This code ilustrates two-dimensional particle kinematics by studying classical projectile launch.\n",
    "\n",
    "By:\n",
    "**Juan A. Ramírez Macías**  \n",
    "*Mech. Eng. Professor*  \n",
    "*Universidad Pontificia Bolivariana*\n",
    "\n",
    "![ProjectileTwoAngles](./img/projectileLaunchTwoAngles.png)"
   ]
  },
  {
   "cell_type": "markdown",
   "metadata": {},
   "source": [
    "## Modules import"
   ]
  },
  {
   "cell_type": "code",
   "execution_count": 1,
   "metadata": {
    "collapsed": true
   },
   "outputs": [],
   "source": [
    "import numpy as np\n",
    "%matplotlib inline\n",
    "import matplotlib.pyplot as plt"
   ]
  },
  {
   "cell_type": "markdown",
   "metadata": {},
   "source": [
    "## Quadratic equation solution\n",
    "This problem requires solving a quadratic equation. \n",
    "The general solution to the quadratic equation $a u ^ 2 + b u + c = 0$ is given by\n",
    "$$u_{1,2} = -\\frac{b}{2a} \\pm \\frac{\\sqrt{b^2 - 4ac}}{2a}$$\n",
    "The function below solves the problem for any given $a$, $b$, and $c$."
   ]
  },
  {
   "cell_type": "code",
   "execution_count": 2,
   "metadata": {
    "collapsed": false
   },
   "outputs": [],
   "source": [
    "# Function to solve a quadratic equation\n",
    "def quadratic_solve(a, b, c):\n",
    "    discr = b ** 2 - 4. * a * c\n",
    "    sigma = b / 2. / a\n",
    "    omega = np.sqrt(discr) / 2. / a\n",
    "    if discr < 0:\n",
    "        print \"Complex solution\"\n",
    "    x1 = - sigma + omega\n",
    "    x2 = - sigma - omega\n",
    "    return x1, x2"
   ]
  },
  {
   "cell_type": "markdown",
   "metadata": {},
   "source": [
    "## Problem's inputs\n",
    "The inputs to the problem are\n",
    "- Initial launch velocity: $v_0$\n",
    "- Target horizontal distance: $d_x$\n",
    "- Target vertical distance: $d_y$\n",
    "- Acceleration due to gravity: $g$"
   ]
  },
  {
   "cell_type": "code",
   "execution_count": 3,
   "metadata": {
    "collapsed": true
   },
   "outputs": [],
   "source": [
    "# Launch velocity\n",
    "v0 = 400. # m/s\n",
    "# Coordinates to target\n",
    "dx = 5.0e3 # m \n",
    "dy = 1.5e3 # m\n",
    "# Gravity acceleration\n",
    "g = 9.8 # m/s^2"
   ]
  },
  {
   "cell_type": "markdown",
   "metadata": {},
   "source": [
    "## Solution to the problem\n",
    "In the problem $x$-direction is positive right and $y$-direction is positive up.\n",
    "\n",
    "![ProjectileTwoAngles](./img/projectileLaunchTwoAngles.png)\n",
    "\n",
    "The projectile is lauched at a speed $v_0$ and angle $\\theta$ with respect to the horizontal. In this case, the trajectory described by the projectile as a function of time is given by\n",
    "- $x(t) = x_0 + v_0 \\cos(\\theta) t$\n",
    "- $y(t) = y_0 + v_0 \\sin(\\theta) t - \\frac{1}{2} g t ^ 2.$\n",
    "\n",
    "Let us make the following assumptions:\n",
    "- The projectile is lauched from $x_0 = 0$ and $y_0 = 0$.\n",
    "- We want to hit a target that is located at coordinates $x = d_x$ and $y = d_y$.\n",
    "\n",
    "We can write from the $x$ equation that\n",
    "$$t = \\frac{d_x}{v_0 \\cos (\\theta)},$$\n",
    "which is the time to hit the target.\n",
    "\n",
    "This can be replaced into the $y$ equation, and the result is\n",
    "$$d_y = v_0 \\sin(\\theta) \\left( \\frac{d_x}{v_0 \\cos (\\theta)} \\right) - \\frac{1}{2} g \\left( \\frac{d_x}{v_0 \\cos (\\theta)} \\right)^ 2.$$\n",
    "Rearranging we get\n",
    "$$d_y v_0^2 \\cos^2 (\\theta) - d_x v_0^2 \\sin(\\theta) \\cos (\\theta) + \\frac{1}{2} g^2 d_x^2 = 0.$$\n",
    "This is an equation we need to solve for $\\theta$.\n",
    "\n",
    "This equation could be solved numerically, but an analytical solution is possible as well. To find an analytic solution we acknowledge that $\\sin(\\theta) = \\sqrt{1 - \\cos^2 (\\theta)}$, assuming that $0 < \\theta < \\pi/2$.\n",
    "\n",
    "From this, the equation is:\n",
    "$$d_y v_0^2 \\cos^2 (\\theta) - d_x v_0^2 \\cos (\\theta) \\sqrt{1 - \\cos^2 (\\theta)} + \\frac{1}{2} g^2 d_x^2 = 0.$$\n",
    "To find a solution we can arrange the equation as follows\n",
    "$$d_y v_0^2 \\cos^2 (\\theta) + \\frac{1}{2} g^2 d_x^2 = d_x v_0^2 \\cos (\\theta) \\sqrt{1 - \\cos^2 (\\theta)};$$\n",
    "then uniformily use the square\n",
    "$$\\left(d_y v_0^2 \\cos^2 (\\theta) + \\frac{1}{2} g^2 d_x^2 \\right)^2 = \\left(d_x v_0^2 \\cos (\\theta) \\sqrt{1 - \\cos^2 (\\theta)}\\right)^2,$$\n",
    "$$\n",
    "d_y^2 v_0^4 \\cos^4 (\\theta) + d_y d_x^2  v_0^2  g  \\cos^2 (\\theta) + \\frac{1}{4} g^2 d_x^4 = d_x^2 v_0^4 \\cos^2 (\\theta)  - d_x^2 v_0^4 \\cos^4 (\\theta);\n",
    "$$\n",
    "and then group similar terms\n",
    "$$\\left(d_y^2 v_0^4 + d_x^2 v_0^4 \\right) \\cos^4 (\\theta) + \\left(d_y d_x^2 v_0^2 g - d_x^2 v_0^4 \\right) \\cos^2 (\\theta) + \\frac{1}{4} g^2 d_x^4 =  0.$$\n",
    "\n",
    "This is a quadratic equation if we define $u = \\cos^2(\\theta)$.\n",
    "\n",
    "The equation is then  $a u ^ 2 + b u + c = 0,$ with\n",
    "- $a = d_y^2 v_0^4 + d_x^2 v_0^4,$\n",
    "- $b = d_y d_x^2 v_0^2 g - d_x^2 v_0^4, \\quad \\textrm{and}$\n",
    "- $c = \\frac{1}{4} g^2 d_x^4.$\n",
    "\n",
    "Considering the general solution\n",
    "$$u_{1,2} = -\\frac{b}{2a} \\pm \\frac{\\sqrt{b^2 - 4ac}}{2a},$$\n",
    "we can find that\n",
    "$$\\theta_{1,2} = \\cos^{-1} \\left( \\sqrt{u_{1,2}} \\right).$$"
   ]
  },
  {
   "cell_type": "code",
   "execution_count": 4,
   "metadata": {
    "collapsed": false,
    "scrolled": true
   },
   "outputs": [
    {
     "name": "stdout",
     "output_type": "stream",
     "text": [
      "Angle 1: 26.0988912383 deg\n",
      "Angle 2: 80.6003529957 deg\n"
     ]
    }
   ],
   "source": [
    "# Coefficients\n",
    "a = (dy ** 2 + dx ** 2) * v0 ** 4\n",
    "b = dy * v0 ** 2 * g * dx ** 2 - dx ** 2 * v0 ** 4\n",
    "c = g ** 2 * dx ** 4 / 4.\n",
    "# Quadratic solution\n",
    "sol1, sol2 = quadratic_solve(a, b, c)\n",
    "# Angles solution\n",
    "theta1 = np.arccos(np.sqrt(sol1))\n",
    "theta2 = np.arccos(np.sqrt(sol2))\n",
    "print \"Angle 1:\", theta1 * 180. / np.pi, \"deg\"\n",
    "print \"Angle 2:\", theta2 * 180. / np.pi, \"deg\""
   ]
  },
  {
   "cell_type": "markdown",
   "metadata": {},
   "source": [
    "## Trajectories computation\n",
    "To check if the computation was good, we plot the trajectories for the two angles:\n",
    "- $x(t) = x_0 + v_0 \\cos(\\theta) t$\n",
    "- $y(t) = y_0 + v_0 \\sin(\\theta) t - \\frac{1}{2} g t ^ 2.$\n",
    "\n",
    "First angle:"
   ]
  },
  {
   "cell_type": "code",
   "execution_count": 5,
   "metadata": {
    "collapsed": false
   },
   "outputs": [
    {
     "name": "stdout",
     "output_type": "stream",
     "text": [
      "Launch time (angle1): 13.9192624348 s\n"
     ]
    }
   ],
   "source": [
    "# Time to hit target\n",
    "t1_hit = dx / v0 / np.cos(theta1)\n",
    "dt = 0.01\n",
    "print \"Launch time (angle1):\", t1_hit, \"s\"\n",
    "# Time array in seconds\n",
    "t1 = np.arange(0.,t1_hit + dt, dt)\n",
    "# Position in meters\n",
    "x1 = v0 * np.cos(theta1) * t1\n",
    "y1 = v0 * np.sin(theta1) * t1 - 0.5 * g * t1 ** 2 \n",
    "# Velocity in m/s\n",
    "Vx1 = v0 * np.cos(theta1) * np.ones_like(t1)\n",
    "Vy1 = v0 * np.sin(theta1) - g * t1"
   ]
  },
  {
   "cell_type": "markdown",
   "metadata": {},
   "source": [
    "Second angle:"
   ]
  },
  {
   "cell_type": "code",
   "execution_count": 6,
   "metadata": {
    "collapsed": false
   },
   "outputs": [
    {
     "name": "stdout",
     "output_type": "stream",
     "text": [
      "Launch time (angle2): 76.5369144997 s\n"
     ]
    }
   ],
   "source": [
    "# Time to hit target\n",
    "t2_hit = dx / v0 / np.cos(theta2)\n",
    "print \"Launch time (angle2):\", t2_hit, \"s\"\n",
    "# Time array in seconds\n",
    "t2 = np.arange(0.,t2_hit + dt, dt)\n",
    "# Position in meters\n",
    "x2 = v0 * np.cos(theta2) * t2\n",
    "y2 = v0 * np.sin(theta2) * t2 - 0.5 * g * t2 ** 2 \n",
    "# Velocity in m/s\n",
    "Vx2 = v0 * np.cos(theta2) * np.ones_like(t2)\n",
    "Vy2 = v0 * np.sin(theta2) - g * t2"
   ]
  },
  {
   "cell_type": "markdown",
   "metadata": {},
   "source": [
    "## Trajectories plot"
   ]
  },
  {
   "cell_type": "code",
   "execution_count": 7,
   "metadata": {
    "collapsed": false,
    "scrolled": true
   },
   "outputs": [
    {
     "data": {
      "image/png": "[encoded data removed]",
      "text/plain": [
       "<matplotlib.figure.Figure at 0x73ae470>"
      ]
     },
     "metadata": {},
     "output_type": "display_data"
    }
   ],
   "source": [
    "plt.figure()\n",
    "# Trajectories plot\n",
    "plt.plot(x1, y1, ':')\n",
    "plt.plot(x2, y2, ':')\n",
    "plt.plot(x1[0], y1[0], '+')\n",
    "plt.plot(dx, dy, 'xr')\n",
    "# Velocity field plot\n",
    "Nd = 300\n",
    "plt.quiver(x1[::Nd], y1[::Nd], Vx1[::Nd], Vy1[::Nd])\n",
    "plt.quiver(x2[::Nd], y2[::Nd], Vx2[::Nd], Vy2[::Nd])\n",
    "# Axes settings\n",
    "plt.xlabel('$x$ (m)')\n",
    "plt.ylabel('$y$ (m)')\n",
    "plt.axis('equal')\n",
    "plt.grid()\n",
    "plt.show()"
   ]
  }
 ],
 "metadata": {
  "kernelspec": {
   "display_name": "Python 2",
   "language": "python",
   "name": "python2"
  },
  "language_info": {
   "codemirror_mode": {
    "name": "ipython",
    "version": 2
   },
   "file_extension": ".py",
   "mimetype": "text/x-python",
   "name": "python",
   "nbconvert_exporter": "python",
   "pygments_lexer": "ipython2",
   "version": "2.7.13"
  }
 },
 "nbformat": 4,
 "nbformat_minor": 2
}
