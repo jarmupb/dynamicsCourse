{
 "cells": [
  {
   "cell_type": "markdown",
   "metadata": {},
   "source": [
    "# Projectile launch: angles to hit a target\n",
    "This code ilustrates two-dimensional particle kinematics by studying classical projectile launch.\n",
    "\n",
    "By:\n",
    "**Juan A. Ramírez Macías**  \n",
    "*Mech. Eng. Professor*  \n",
    "*Universidad Pontificia Bolivariana*\n",
    "\n",
    "![ProjectileTwoAngles](./img/projectileLaunchVelocity.png)"
   ]
  },
  {
   "cell_type": "markdown",
   "metadata": {},
   "source": [
    "## Modules import"
   ]
  },
  {
   "cell_type": "code",
   "execution_count": 1,
   "metadata": {
    "collapsed": true
   },
   "outputs": [],
   "source": [
    "import numpy as np\n",
    "%matplotlib inline\n",
    "import matplotlib.pyplot as plt"
   ]
  },
  {
   "cell_type": "markdown",
   "metadata": {},
   "source": [
    "## Problem's inputs\n",
    "The inputs to the problem are\n",
    "- Initial launch velocity: $v_0$\n",
    "- Target horizontal distance: $d_x$\n",
    "- Target vertical distance: $d_y$\n",
    "- Acceleration due to gravity: $g$"
   ]
  },
  {
   "cell_type": "code",
   "execution_count": 2,
   "metadata": {
    "collapsed": false
   },
   "outputs": [],
   "source": [
    "# Launch angle 1\n",
    "theta1_deg = 4.\n",
    "theta1 = theta1_deg * np.pi / 180.\n",
    "# Launch angle 2\n",
    "theta2_deg = 8.\n",
    "theta2 = theta2_deg * np.pi / 180.\n",
    "# Launch height\n",
    "h = 2.6\n",
    "# Distance to serve line\n",
    "L = 18.4 # m\n",
    "# Distance to the net\n",
    "Ln = 12.0 # m\n",
    "# Ball diameter\n",
    "d = 0.07 # m\n",
    "# Net height\n",
    "hn = 0.9\n",
    "# Gravity acceleration\n",
    "g = 9.8 # m/s^2"
   ]
  },
  {
   "cell_type": "markdown",
   "metadata": {},
   "source": [
    "## Solution to the problem\n",
    "In the problem $x$-direction is positive right and $y$-direction is positive up.\n",
    "\n",
    "![ProjectileTwoAngles](./img/projectileLaunchVelocity.png)\n",
    "\n",
    "The projectile is lauched at a speed $v_0$ and angle $\\theta$ with respect to the horizontal. In this case, the trajectory described by the projectile as a function of time is given by\n",
    "- $x(t) = x_0 + v_0 \\cos(\\theta) t$\n",
    "- $y(t) = y_0 - v_0 \\sin(\\theta) t - \\frac{1}{2} g t ^ 2.$\n",
    "\n",
    "Let us make the following assumptions:\n",
    "- The projectile is lauched from $x_0 = 0$ and $y_0 = h$.\n",
    "- We want to hit a target that is located at coordinates $x = L$ and $y = 0$.\n",
    "\n",
    "We can write from the $x$ equation that\n",
    "$$t = \\frac{L}{v_0 \\cos (\\theta)},$$\n",
    "which is the time to hit the target.\n",
    "\n",
    "This can be replaced into the $y$ equation, and the result is\n",
    "$$0 = h - v_0 \\sin(\\theta) \\left( \\frac{L}{v_0 \\cos (\\theta)} \\right) - \\frac{1}{2} g \\left( \\frac{L}{v_0 \\cos (\\theta)} \\right)^ 2.$$\n",
    "Rearranging we get\n",
    "$$0 = h - L \\tan(\\theta) - \\frac{1}{2} g \\frac{L^2}{v_0^2 \\cos^2 (\\theta)}.$$\n",
    "This is an equation we need to solve for $v_0$.\n",
    "\n",
    "Solving for $v_0$ we get\n",
    "$$\n",
    "v_0 = L \\sqrt{\\frac{g}{2 \\cos^2(\\theta) \\left(h - L \\tan( \\theta) \\right)}}\n",
    "$$\n"
   ]
  },
  {
   "cell_type": "code",
   "execution_count": 3,
   "metadata": {
    "collapsed": false,
    "scrolled": true
   },
   "outputs": [
    {
     "name": "stdout",
     "output_type": "stream",
     "text": [
      "Launch velocity 1: 35.6275030679 m/s , 128.259011044 km/h\n",
      "Launch velocity 2: 347.013142255 m/s , 1249.24731212 km/h\n"
     ]
    }
   ],
   "source": [
    "# Coefficients\n",
    "v01 = L * np.sqrt(g / (2. * np.cos(theta1) ** 2 * (h - L * np.tan(theta1))))\n",
    "v02 = L * np.sqrt(g / (2. * np.cos(theta2) ** 2 * (h - L * np.tan(theta2))))\n",
    "\n",
    "print \"Launch velocity 1:\", v01, \"m/s ,\", v01 * 3.6, \"km/h\"\n",
    "print \"Launch velocity 2:\", v02, \"m/s ,\", v02 * 3.6, \"km/h\""
   ]
  },
  {
   "cell_type": "markdown",
   "metadata": {},
   "source": [
    "## Height at the net\n",
    "At this point we know the launch velocity $v_0$ and the horizontal distance to the net $L_n$\n",
    "\n",
    "Then, we can write from the $x$ equation that\n",
    "$$t_n = \\frac{L_n}{v_0 \\cos (\\theta)},$$\n",
    "which is the time to reach the net.\n",
    "\n",
    "This can be replaced into the $y$ equation, and the result is\n",
    "$$y_n = h - v_0 \\sin(\\theta) \\left( \\frac{L_n}{v_0 \\cos (\\theta)} \\right) - \\frac{1}{2} g \\left( \\frac{L_n}{v_0 \\cos (\\theta)} \\right)^ 2.$$\n",
    "Rearranging we get\n",
    "$$y_n = h - L_n \\tan(\\theta) - \\frac{1}{2} g \\frac{L_n^2}{v_0^2 \\cos^2 (\\theta)}.$$\n",
    "This is an equation we need to solve for $v_0$."
   ]
  },
  {
   "cell_type": "code",
   "execution_count": 4,
   "metadata": {
    "collapsed": false
   },
   "outputs": [
    {
     "name": "stdout",
     "output_type": "stream",
     "text": [
      "Net height 1: 1.20227145412 m\n",
      "Net clearance 1: 0.267271454119 m\n",
      "Net height 2: 0.907534663473 m\n",
      "Net clearance 2: -0.0274653365272 m\n"
     ]
    }
   ],
   "source": [
    "yn1 = h - Ln * np.tan(theta1) - 0.5 * g * Ln ** 2 / v01 ** 2 / np.cos(theta1) ** 2\n",
    "yn2 = h - Ln * np.tan(theta2) - 0.5 * g * Ln ** 2 / v02 ** 2 / np.cos(theta2) ** 2\n",
    "\n",
    "print \"Net height 1:\", yn1, \"m\"\n",
    "print \"Net clearance 1:\", yn1 - hn - d / 2., \"m\"\n",
    "\n",
    "print \"Net height 2:\", yn2, \"m\"\n",
    "print \"Net clearance 2:\", yn2 - hn - d / 2., \"m\""
   ]
  },
  {
   "cell_type": "markdown",
   "metadata": {},
   "source": [
    "## Trajectories computation\n",
    "To check if the computation was good, we plot the trajectories for the two angles:\n",
    "- $x(t) = v_0 \\cos(\\theta) t$\n",
    "- $y(t) = h - v_0 \\sin(\\theta) t - \\frac{1}{2} g t ^ 2.$\n",
    "\n",
    "First angle:"
   ]
  },
  {
   "cell_type": "code",
   "execution_count": 5,
   "metadata": {
    "collapsed": false
   },
   "outputs": [
    {
     "name": "stdout",
     "output_type": "stream",
     "text": [
      "Launch time 1: 0.517716071473 s\n"
     ]
    }
   ],
   "source": [
    "# Time to hit target\n",
    "t1_hit = L / v01 / np.cos(theta1)\n",
    "dt = 0.01\n",
    "print \"Launch time 1:\", t1_hit, \"s\"\n",
    "# Time array in seconds\n",
    "t1 = np.arange(0., t1_hit + dt, dt)\n",
    "# Position in meters\n",
    "x1 = v01 * np.cos(theta1) * t1\n",
    "y1 = h - v01 * np.sin(theta1) * t1 - 0.5 * g * t1 ** 2 \n",
    "# Velocity in m/s\n",
    "Vx1 = v01 * np.cos(theta1) * np.ones_like(t1)\n",
    "Vy1 = -v01 * np.sin(theta1) - g * t1"
   ]
  },
  {
   "cell_type": "markdown",
   "metadata": {},
   "source": [
    "Second angle:"
   ]
  },
  {
   "cell_type": "code",
   "execution_count": 6,
   "metadata": {
    "collapsed": false
   },
   "outputs": [
    {
     "name": "stdout",
     "output_type": "stream",
     "text": [
      "Launch time 2: 0.0535450248761 s\n"
     ]
    }
   ],
   "source": [
    "# Time to hit target\n",
    "t2_hit = L / v02 / np.cos(theta2)\n",
    "print \"Launch time 2:\", t2_hit, \"s\"\n",
    "# Time array in seconds\n",
    "t2 = np.arange(0., t2_hit + dt, dt)\n",
    "# Position in meters\n",
    "x2 = v02 * np.cos(theta2) * t2\n",
    "y2 = h - v02 * np.sin(theta2) * t2 - 0.5 * g * t2 ** 2 \n",
    "# Velocity in m/s\n",
    "Vx2 = v02 * np.cos(theta2) * np.ones_like(t2)\n",
    "Vy2 = -v02 * np.sin(theta2) - g * t2"
   ]
  },
  {
   "cell_type": "markdown",
   "metadata": {},
   "source": [
    "## Trajectories plot"
   ]
  },
  {
   "cell_type": "code",
   "execution_count": 7,
   "metadata": {
    "collapsed": false,
    "scrolled": false
   },
   "outputs": [
    {
     "data": {
      "image/png": "[encoded data removed]",
      "text/plain": [
       "<matplotlib.figure.Figure at 0x7338278>"
      ]
     },
     "metadata": {},
     "output_type": "display_data"
    }
   ],
   "source": [
    "plt.figure()\n",
    "# Trajectories plot\n",
    "plt.plot(x1, y1, ':')\n",
    "# Interesting points plot\n",
    "# Floor\n",
    "plt.plot([0., 18.4],[0., 0.], 'C2')\n",
    "# Racket hit point\n",
    "plt.plot(x1[0], y1[0], '+')\n",
    "# Floor hit point\n",
    "plt.plot(L, 0, 'xr')\n",
    "# Net\n",
    "plt.plot([12., 12.],[0., .9], 'k')\n",
    "# Velocity field plot\n",
    "Nd = 7\n",
    "plt.quiver(x1[::Nd], y1[::Nd], Vx1[::Nd], Vy1[::Nd])\n",
    "# Axes settings\n",
    "plt.xlabel('$x$ (m)')\n",
    "plt.ylabel('$y$ (m)')\n",
    "plt.axis('equal')\n",
    "plt.grid()\n",
    "plt.show()"
   ]
  },
  {
   "cell_type": "code",
   "execution_count": 8,
   "metadata": {
    "collapsed": false
   },
   "outputs": [
    {
     "data": {
      "image/png": "[encoded data removed]",
      "text/plain": [
       "<matplotlib.figure.Figure at 0x7a8b358>"
      ]
     },
     "metadata": {},
     "output_type": "display_data"
    }
   ],
   "source": [
    "plt.figure()\n",
    "# Trajectories plot\n",
    "plt.plot(x1, y1, ':')\n",
    "plt.plot(x2, y2, ':')\n",
    "# Interesting points plot\n",
    "# Floor\n",
    "plt.plot([0., 18.4],[0., 0.], 'C2')\n",
    "# Racket hit point\n",
    "plt.plot(x1[0], y1[0], '+')\n",
    "# Floor hit point\n",
    "plt.plot(L, 0, 'xr')\n",
    "# Net\n",
    "plt.plot([12., 12.],[0., .9], 'k')\n",
    "# Velocity field plot\n",
    "Nd = 7\n",
    "plt.quiver(x1[::Nd], y1[::Nd], Vx1[::Nd], Vy1[::Nd])\n",
    "plt.quiver(x2[::Nd], y2[::Nd], Vx2[::Nd], Vy2[::Nd])\n",
    "# Axes settings\n",
    "plt.xlabel('$x$ (m)')\n",
    "plt.ylabel('$y$ (m)')\n",
    "plt.axis('equal')\n",
    "plt.grid()\n",
    "plt.show()\n"
   ]
  }
 ],
 "metadata": {
  "kernelspec": {
   "display_name": "Python 2",
   "language": "python",
   "name": "python2"
  },
  "language_info": {
   "codemirror_mode": {
    "name": "ipython",
    "version": 2
   },
   "file_extension": ".py",
   "mimetype": "text/x-python",
   "name": "python",
   "nbconvert_exporter": "python",
   "pygments_lexer": "ipython2",
   "version": "2.7.13"
  }
 },
 "nbformat": 4,
 "nbformat_minor": 2
}
