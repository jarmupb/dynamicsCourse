{
 "cells": [
  {
   "cell_type": "markdown",
   "metadata": {},
   "source": [
    "# Numerical solution to the projectile launch problem\n",
    "This code ilustrates two-dimensional particle kinematics by studying classical projectile launch.\n",
    "\n",
    "By:\n",
    "**Juan A. Ramírez Macías**  \n",
    "*Mech. Eng. Professor*  \n",
    "*Universidad Pontificia Bolivariana*\n"
   ]
  },
  {
   "cell_type": "markdown",
   "metadata": {},
   "source": [
    "## Projectile model\n",
    "The model assumes a projectile that is launched from a foreknown initial velocity $\\vec{v}_0$ at time $t = 0$. The idea is to compute the curves for position and velocity as functions of time.\n",
    "\n",
    "![Projectile](./img/projectileLaunchDrag.png)\n",
    "\n",
    "### Reference frame\n",
    "In this problem the reference frame is chosen with $x$-coordinate positive right and $y$-coordinate positive up.\n",
    "\n",
    "### Newtonian model of the projectile without drag\n",
    "The classical model for projectile launch comes from Newtonian mechanics, where Newton's second law is given by\n",
    "$$\\vec{F} = m \\vec{a}.$$\n",
    "If the only force is weight, given by $\\vec{W} = \\left[\\begin{array}{c} 0 \\\\ -mg \\end{array}\\right]$, the dynamic model becomes $\\vec{W} = m \\vec{a}$. Explicitly, this is\n",
    "$$\\left[\\begin{array}{c} 0 \\\\ -mg \\end{array}\\right] = m \\left[\\begin{array}{c} a_x \\\\ a_y \\end{array}\\right].$$\n",
    "If we write the model component-wise, we get\n",
    "$$a_y = - g$$\n",
    "and\n",
    "$$a_x = 0.$$\n",
    "\n",
    "### Newtonian model of the projectile with drag\n",
    "In this case the forces are weight and drag. As before, the weight is given by $\\vec{W} = \\left[\\begin{array}{c} 0 \\\\ -mg \\end{array}\\right]$.\n",
    "\n",
    "On the other side, the magnitude of drag is given by $F_A = \\frac{1}{2} \\rho A C_D v^2.$ \n",
    "\n",
    "We write the drag force vector as\n",
    "$$\\vec{F}_A = \\left[\\begin{array}{c} -\\frac{1}{2} \\rho A C_D v_x |v_x| \\\\ -\\frac{1}{2} \\rho A C_D v_y |v_y| \\end{array}\\right]$$.\n",
    "\n",
    "Then, the dynamic model becomes $\\vec{W} + \\vec{F}_A = m \\vec{a}$.\n",
    "\n",
    "Explicitly, this is\n",
    "$$\\left[\\begin{array}{c} 0 \\\\ -mg \\end{array}\\right] + \\left[\\begin{array}{c} -\\frac{1}{2} \\rho A C_D v_x |v_x| \\\\ -\\frac{1}{2} \\rho A C_D v_y |v_y| \\end{array}\\right] = \\left[\\begin{array}{c} -\\frac{1}{2} \\rho A C_D v_x |v_x| \\\\ -\\frac{1}{2} \\rho A C_D v_y |v_y| \\end{array}\\right]= m \\left[\\begin{array}{c} a_x \\\\ a_y \\end{array}\\right].$$\n",
    "\n",
    "If we write the model component-wise and obtain accelerations, we get\n",
    "\n",
    "$$a_x = -\\frac{1}{2} \\frac{\\rho A C_D}{m} v_x |v_x| $$\n",
    "and\n",
    "$$a_y = - g - \\frac{1}{2} \\frac{\\rho A C_D}{m}  v_y |v_y|$$\n",
    "\n",
    "### Discrete solution\n",
    "The discrete solution is based on the difference equations\n",
    "- For velocity we use an Euler algorithm: $v_{k+1} = v_{k} + h a_k $\n",
    "- For position we use a trapezoidal rule: $x_{k+1} = x_{k} + \\frac{h}{2} \\left(v_k + v_{k+1} \\right)$"
   ]
  },
  {
   "cell_type": "markdown",
   "metadata": {},
   "source": [
    "## Import required Python modules"
   ]
  },
  {
   "cell_type": "code",
   "execution_count": 1,
   "metadata": {
    "collapsed": true
   },
   "outputs": [],
   "source": [
    "import numpy as np\n",
    "%matplotlib inline\n",
    "import matplotlib.pyplot as plt"
   ]
  },
  {
   "cell_type": "markdown",
   "metadata": {},
   "source": [
    "## Launch conditions\n",
    "Launch conditions are given by initial position and velocity"
   ]
  },
  {
   "cell_type": "code",
   "execution_count": 2,
   "metadata": {
    "collapsed": false,
    "scrolled": true
   },
   "outputs": [],
   "source": [
    "# Initial condition at t = 0\n",
    "# Position\n",
    "x0 = 0.0\n",
    "y0 = 0.0\n",
    "\n",
    "# Velocity\n",
    "v0 = 10.0\n",
    "# Angle\n",
    "theta = np.pi / 4. # rad\n",
    "\n",
    "# Final time\n",
    "tf = 1.1 # s\n",
    "# Time-step\n",
    "h = 0.01 # s\n",
    "\n",
    "# Gravity\n",
    "g = 9.8\n",
    "\n",
    "# Drag-related parameters\n",
    "# Density\n",
    "rho = 1.225 # kg/m^3\n",
    "# Mass\n",
    "m = 2.8e-3 # kg\n",
    "# Diameter\n",
    "d = 40.e-3 # m\n",
    "# Projected area\n",
    "A = np.pi * d ** 2 / 4. # m^2\n",
    "# Drag coefficient\n",
    "Cd = 0.47 # non-dimensional\n",
    "# Drag constant\n",
    "Ka = 0.5 * rho * A * Cd / m # "
   ]
  },
  {
   "cell_type": "markdown",
   "metadata": {},
   "source": [
    "## Computation of the trajectory and velocity in the no-drag condition\n",
    "To plot trajectory and velocity in the case without drag, the solution is:\n",
    "### Position\n",
    "$x$-direction:\n",
    "$$x(t) = x_0 + v_0 \\cos(\\theta) t.$$\n",
    "$y$-direction:\n",
    "$$y(t) = y_0 + v_0 \\sin(\\theta) t - \\frac{1}{2} g t ^ 2.$$\n",
    "### Velocity\n",
    "$x$-direction:\n",
    "$$v_x (t)= v_0 \\cos(\\theta).$$\n",
    "$y$-direction:\n",
    "$$v_y (t) = v_0 \\sin(\\theta) - g t.$$"
   ]
  },
  {
   "cell_type": "code",
   "execution_count": 3,
   "metadata": {
    "collapsed": false
   },
   "outputs": [],
   "source": [
    "# Time in seconds\n",
    "t = np.arange(0., tf + h, h)\n",
    "# Position in meters\n",
    "x = x0 + v0 * np.cos(theta) * t\n",
    "y = y0 + v0 * np.sin(theta) * t - 0.5 * g * t ** 2 \n",
    "# Velocity in m/s\n",
    "Vx = v0 * np.cos(theta) * np.ones_like(t)\n",
    "Vy = v0 * np.sin(theta) - g * t"
   ]
  },
  {
   "cell_type": "markdown",
   "metadata": {},
   "source": [
    "## Discrete solution of the problem with drag\n",
    "The algorithm to compute velocity and position at instant $k+1$ from velocity and position at instant $k$ is:\n",
    "\n",
    "Acceleration:\n",
    "- $a_{x_k} = - k_A v_{x_k} \\left| v_{x_k} \\right|$\n",
    "- $a_{y_k} = - g - k_A v_{y_k} \\left| v_{y_k} \\right|$\n",
    "    \n",
    "Velocity:\n",
    "- $v_{x_{k+1}} = v_{x_k} + h a_{x_k}$\n",
    "- $v_{y_{k+1}} = v_{y_k} + h a_{y_k}$\n",
    "    \n",
    "Position:\n",
    "- $x_{k+1} = x_k + \\frac{h}{2} \\left(v_{x_k} + v_{x_{k+1}} \\right)$\n",
    "- $y_{k+1} = y_k + \\frac{h}{2} \\left(v_{y_k} + v_{y_{k+1}} \\right)$"
   ]
  },
  {
   "cell_type": "code",
   "execution_count": 4,
   "metadata": {
    "collapsed": true
   },
   "outputs": [],
   "source": [
    "# Sample time\n",
    "h = 0.01 # s\n",
    "\n",
    "# Time array\n",
    "t_k = np.arange(0., tf + h, h)\n",
    "\n",
    "# Empty arrays\n",
    "# Velocity\n",
    "Vx_k = np.zeros_like(t_k)\n",
    "Vy_k = np.zeros_like(t_k)\n",
    "# Position\n",
    "x_k = np.zeros_like(t_k)\n",
    "y_k = np.zeros_like(t_k)\n",
    "\n",
    "# Initial velocity\n",
    "Vx_k[0] = v0 * np.cos(theta)\n",
    "Vy_k[0] = v0 * np.sin(theta)\n",
    "# Initial position\n",
    "x_k[0] = x0\n",
    "y_k[0] = y0\n",
    "\n",
    "# Loop to compute the discrete problem\n",
    "for k in range(len(t_k) - 1):\n",
    "    # Acceleration\n",
    "    ax = - Ka * Vx_k[k] * np.abs(Vx_k[k])\n",
    "    ay = - g - Ka * Vy_k[k] * np.abs(Vy_k[k])\n",
    "    \n",
    "    # Velocity\n",
    "    Vx_k[k+1] = Vx_k[k] + h * ax\n",
    "    Vy_k[k+1] = Vy_k[k] + h * ay\n",
    "    \n",
    "    # Position\n",
    "    x_k[k+1] = x_k[k] + h * 0.5 * (Vx_k[k] + Vx_k[k+1]) \n",
    "    y_k[k+1] = y_k[k] + h * 0.5 * (Vy_k[k] + Vy_k[k+1])"
   ]
  },
  {
   "cell_type": "markdown",
   "metadata": {},
   "source": [
    "## Plot of the trajectory\n",
    "Here, we plot $y$ vs $x$. Then, we plot the velocity vector $\\vec{v}$ on different points."
   ]
  },
  {
   "cell_type": "code",
   "execution_count": 5,
   "metadata": {
    "collapsed": false
   },
   "outputs": [
    {
     "data": {
      "image/png": "[encoded data removed]",
      "text/plain": [
       "<matplotlib.figure.Figure at 0x7375a20>"
      ]
     },
     "metadata": {},
     "output_type": "display_data"
    }
   ],
   "source": [
    "plt.figure()\n",
    "# Trajectories plot\n",
    "# Projectile (ideal) model\n",
    "plt.plot(x, y, ':')\n",
    "# Projectile with drag\n",
    "plt.plot(x_k, y_k, ':C1')\n",
    "plt.legend(['No drag', 'Drag'])\n",
    "\n",
    "# Initial point\n",
    "plt.plot(x[0], y[0], '+')\n",
    "# Final point\n",
    "plt.plot(x[-1], y[-1], 'oC8')\n",
    "plt.plot(x_k[-1], y_k[-1], 'oC8')\n",
    "\n",
    "# Velocity field plot\n",
    "# Projectile (ideal) model\n",
    "plt.quiver(x[::10], y[::10], Vx[::10], Vy[::10])\n",
    "# Projectile with drag\n",
    "plt.quiver(x_k[::10], y_k[::10], Vx_k[::10], Vy_k[::10], color = 'C4')\n",
    "\n",
    "# Axes settings\n",
    "plt.xlabel('$x$ (m)')\n",
    "plt.ylabel('$y$ (m)')\n",
    "plt.axis('equal')\n",
    "plt.grid()\n",
    "plt.show()"
   ]
  },
  {
   "cell_type": "markdown",
   "metadata": {},
   "source": [
    "## Time plots\n",
    "Here we plot the different variables as a function of time:\n",
    "- $x$ vs $t$ and $y$ vs $t$\n",
    "- $v_x$ vs $t$ and $v_y$ vs $t$"
   ]
  },
  {
   "cell_type": "code",
   "execution_count": 6,
   "metadata": {
    "collapsed": false
   },
   "outputs": [
    {
     "data": {
      "image/png": "[encoded data removed]",
      "text/plain": [
       "<matplotlib.figure.Figure at 0x7375710>"
      ]
     },
     "metadata": {},
     "output_type": "display_data"
    }
   ],
   "source": [
    "plt.figure()\n",
    "\n",
    "# Position\n",
    "plt.subplot(211)\n",
    "plt.plot(t, x)\n",
    "plt.plot(t, y)\n",
    "plt.plot(t_k, x_k, ':C0')\n",
    "plt.plot(t_k, y_k, ':C1')\n",
    "plt.ylabel('$x$, $y$ (m)')\n",
    "plt.legend(['$x$ no drag', '$y$ no drag', '$x$ drag', '$y$ drag'])\n",
    "plt.grid()\n",
    "\n",
    "# Velocity\n",
    "plt.subplot(212)\n",
    "plt.plot(t, Vx)\n",
    "plt.plot(t, Vy)\n",
    "plt.plot(t_k, Vx_k, ':C0')\n",
    "plt.plot(t_k, Vy_k, ':C1')\n",
    "plt.xlabel('t (s)')\n",
    "plt.ylabel('$V_x$, $V_y$ (m/s)')\n",
    "plt.legend(['$V_x$ no drag', '$V_y$ no drag', '$V_x$ drag', '$V_y$ drag'])\n",
    "plt.grid()\n",
    "plt.show()"
   ]
  }
 ],
 "metadata": {
  "kernelspec": {
   "display_name": "Python 2",
   "language": "python",
   "name": "python2"
  },
  "language_info": {
   "codemirror_mode": {
    "name": "ipython",
    "version": 2
   },
   "file_extension": ".py",
   "mimetype": "text/x-python",
   "name": "python",
   "nbconvert_exporter": "python",
   "pygments_lexer": "ipython2",
   "version": "2.7.13"
  }
 },
 "nbformat": 4,
 "nbformat_minor": 2
}
