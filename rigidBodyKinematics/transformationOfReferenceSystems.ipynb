{
 "cells": [
  {
   "cell_type": "markdown",
   "metadata": {},
   "source": [
    "# Transformation of reference systems\n",
    "\n",
    "Author: Juan A. Ramírez-Macías  \n",
    "*Professor, Mechanical Engineering Department*  \n",
    "Universidad Pontificia Bolivariana  \n",
    "Email: juan.ramirez@upb.edu.co  \n",
    "\n",
    "This code shows how to compute coordinates with respect to a reference system $\\{ O \\}$ when the coordinates with respect to another coordinate system $\\{ A \\}$ are known. The position and orientation of $\\{ A \\}$ with respect to $\\{ O \\}$ are known before-hand."
   ]
  },
  {
   "cell_type": "code",
   "execution_count": 1,
   "metadata": {
    "collapsed": false
   },
   "outputs": [],
   "source": [
    "# First load required modules\n",
    "import numpy as np\n",
    "%matplotlib inline\n",
    "import matplotlib.pyplot as plt"
   ]
  },
  {
   "cell_type": "markdown",
   "metadata": {},
   "source": [
    "## Transformation of coordinates between O and A\n",
    "Reference system $\\{A\\}$ is located at coordinates $(1430, -345, 250)$ mm, with respect to reference system $\\{O\\}$.\n",
    "This vector is written as $\\vec{r}_{A \\mathrm{org}}^O = [1430, -345, 250]^\\top$ mm.\n",
    "\n",
    "The location of the origin of $\\{A \\}$ with respect to $\\{ O \\}$ is defined in the code as"
   ]
  },
  {
   "cell_type": "code",
   "execution_count": 2,
   "metadata": {
    "collapsed": false
   },
   "outputs": [
    {
     "name": "stdout",
     "output_type": "stream",
     "text": [
      "[[ 1430.]\n",
      " [ -345.]\n",
      " [  250.]]\n"
     ]
    }
   ],
   "source": [
    "P_Aorg = np.array([[1430.], [-345.], [250.]])\n",
    "print P_Aorg"
   ]
  },
  {
   "cell_type": "markdown",
   "metadata": {},
   "source": [
    "Reference system $\\{ A \\}$ is rotated positively with respect to $\\{ O\\}$ an angle $\\theta = \\pi/2$ (90 deg) around  $z$-axis. This rotation is given by matrix\n",
    "$$ \\mathbf{R}_z(\\theta) = \\left[\\begin{array}{rrr} \\cos{\\theta} & -\\sin{\\theta} & 0 \\\\ \\sin{\\theta} & \\cos{\\theta} & 0 \\\\ 0 & 0 & 1\n",
    "\\end{array} \\right].$$\n",
    "We can declare a function to ease the computation as follows"
   ]
  },
  {
   "cell_type": "code",
   "execution_count": 3,
   "metadata": {
    "collapsed": true
   },
   "outputs": [],
   "source": [
    "def R_z(theta):\n",
    "    return np.array([[np.cos(theta), -np.sin(theta), 0.],\n",
    "                     [np.sin(theta),  np.cos(theta), 0.],\n",
    "                     [0., 0., 1.]])"
   ]
  },
  {
   "cell_type": "markdown",
   "metadata": {},
   "source": [
    "This function returns a $3 \\times 3$ matrix that takes a vector in the same orientation as $\\{ A \\}$ to its representation in $\\{ O \\}$. For instance, given $\\theta = \\pi/2$, the rotation matrix is computed as"
   ]
  },
  {
   "cell_type": "code",
   "execution_count": 4,
   "metadata": {
    "collapsed": false
   },
   "outputs": [
    {
     "name": "stdout",
     "output_type": "stream",
     "text": [
      "[[ 0.70710678 -0.70710678  0.        ]\n",
      " [ 0.70710678  0.70710678  0.        ]\n",
      " [ 0.          0.          1.        ]]\n"
     ]
    }
   ],
   "source": [
    "theta = np.pi / 4.\n",
    "R_AO = R_z(theta)\n",
    "print R_AO"
   ]
  },
  {
   "cell_type": "markdown",
   "metadata": {},
   "source": [
    "We can plot reference systems $\\{ A \\}$ and $\\{ O \\}$ using the code below. The $x,y,z$ color convention is RGB: $x$-axis is red, $y$-axis is green, and $z$-axis is blue."
   ]
  },
  {
   "cell_type": "code",
   "execution_count": 5,
   "metadata": {
    "collapsed": false
   },
   "outputs": [
    {
     "data": {
      "image/png": "[encoded data removed]",
      "text/plain": [
       "<matplotlib.figure.Figure at 0x7363358>"
      ]
     },
     "metadata": {},
     "output_type": "display_data"
    }
   ],
   "source": [
    "plt.figure()\n",
    "\n",
    "# Drawing of system {0}\n",
    "# Origin\n",
    "plt.plot(0., 0., 'o')\n",
    "# Axes\n",
    "plt.arrow(0., 0., 100., 0., color = 'r')\n",
    "plt.arrow(0., 0., 0., 100., color = 'g')\n",
    "\n",
    "# Drawing of system {A}\n",
    "# Origin\n",
    "plt.plot(P_Aorg[0,0], P_Aorg[1,0], 'o')\n",
    "# Axes\n",
    "plt.arrow(P_Aorg[0,0], P_Aorg[1,0], 100. * np.cos(theta), 100. * np.sin(theta), color = 'r')\n",
    "plt.arrow(P_Aorg[0,0], P_Aorg[1,0], -100. * np.sin(theta), 100. * np.cos(theta), color = 'g')\n",
    "\n",
    "# Texts\n",
    "plt.text(0., 0., '$O$')\n",
    "plt.text(P_Aorg[0,0], P_Aorg[1,0], '$A$')\n",
    "plt.text(0., 100., '$\\{ O \\}$')\n",
    "plt.text(P_Aorg[0,0], P_Aorg[1,0] + 100., '$\\{ A \\}$')\n",
    "\n",
    "# Axes settings\n",
    "plt.xlabel('$x$ (mm)')\n",
    "plt.ylabel('$y$ (mm)')\n",
    "plt.axis('equal')\n",
    "plt.show()"
   ]
  },
  {
   "cell_type": "markdown",
   "metadata": {},
   "source": [
    "## Points given with respect to A\n",
    "Assume that some points are given with respect to $\\{ A \\}$. For instance, the vertices of the table. This is specified by the following array"
   ]
  },
  {
   "cell_type": "code",
   "execution_count": 6,
   "metadata": {
    "collapsed": false,
    "scrolled": true
   },
   "outputs": [
    {
     "name": "stdout",
     "output_type": "stream",
     "text": [
      "[[   0.    0.    0.]\n",
      " [ 660.    0.    0.]\n",
      " [ 660.  530.    0.]\n",
      " [   0.  530.    0.]]\n"
     ]
    }
   ],
   "source": [
    "P_tableA = np.array([[0., 0., 0.], [660., 0., 0.], [660., 530., 0.], [0., 530., 0.]])\n",
    "print P_tableA"
   ]
  },
  {
   "cell_type": "markdown",
   "metadata": {},
   "source": [
    "Please note in the array above that the first column represents $x$-coordinate, the second $y$-coordinate, and the third $z$-coordinate.  \n",
    "From the point of view of frame $\\{ A \\}$ the points are drawn as"
   ]
  },
  {
   "cell_type": "code",
   "execution_count": 7,
   "metadata": {
    "collapsed": false
   },
   "outputs": [
    {
     "data": {
      "image/png": "[encoded data removed]",
      "text/plain": [
       "<matplotlib.figure.Figure at 0x73588d0>"
      ]
     },
     "metadata": {},
     "output_type": "display_data"
    }
   ],
   "source": [
    "plt.figure()\n",
    "\n",
    "# Table vertices\n",
    "Npoints = P_tableA.shape[0]\n",
    "tableVert = np.zeros([Npoints + 1,3])\n",
    "tableVert[:-1,:] = P_tableA\n",
    "tableVert[-1,:] = P_tableA[0,:]\n",
    "plt.plot(tableVert[:,0], tableVert[:,1], 'o-', alpha = 0.7)\n",
    "\n",
    "# Drawing of system {A}\n",
    "# Origin\n",
    "plt.plot(0., 0., 'o')\n",
    "# Axes\n",
    "plt.arrow(0., 0., 100., 0., color = 'r')\n",
    "plt.arrow(0., 0., 0., 100., color = 'g')\n",
    "\n",
    "# Texts\n",
    "plt.text(0., 0., '$A$')\n",
    "plt.text(0., 100., '$\\{ A \\}$')\n",
    "\n",
    "# Axis settings\n",
    "plt.xlabel('$x$ (mm)')\n",
    "plt.ylabel('$y$ (mm)')\n",
    "plt.axis('equal')\n",
    "plt.show()"
   ]
  },
  {
   "cell_type": "markdown",
   "metadata": {},
   "source": [
    "## Expressing the points with respect to {O}\n",
    "The location of points with respect to $\\{ O \\}$ is computed as\n",
    "$$\n",
    "\\vec{r}_{P/O}^O = \\vec{r}_{A \\mathrm{org}}^O + \\mathbf{R}_{z} (\\theta) \\vec{r}_{P/A}^A\n",
    "$$\n",
    "where $P$ is any point, $\\vec{r}_{P/O}^O$ are coordinates given with respect to $\\{O\\}$, $\\vec{r}_{P/A}^A$ are coordinates given with respect to $\\{A\\}$, $\\mathbf{R}_{z} (\\theta)$ is the rotation matrix, and $\\vec{r}_{A \\mathrm{org}}^O$ is the location of the coordinates of $\\{ A \\}$ with respect to $\\{ O \\}$. For the table vertices this is computed as"
   ]
  },
  {
   "cell_type": "code",
   "execution_count": 8,
   "metadata": {
    "collapsed": false
   },
   "outputs": [
    {
     "name": "stdout",
     "output_type": "stream",
     "text": [
      "[[ 1430.          -345.           250.        ]\n",
      " [ 1896.69047558   121.69047558   250.        ]\n",
      " [ 1521.92388155   496.45706961   250.        ]\n",
      " [ 1055.23340597    29.76659403   250.        ]]\n"
     ]
    }
   ],
   "source": [
    "P_tableO = P_Aorg + np.dot(R_AO, P_tableA.T)\n",
    "print P_tableO.T"
   ]
  },
  {
   "cell_type": "code",
   "execution_count": 9,
   "metadata": {
    "collapsed": false
   },
   "outputs": [
    {
     "data": {
      "image/png": "[encoded data removed]",
      "text/plain": [
       "<matplotlib.figure.Figure at 0x84cc080>"
      ]
     },
     "metadata": {},
     "output_type": "display_data"
    }
   ],
   "source": [
    "plt.figure()\n",
    "\n",
    "# Drawing of system {0}\n",
    "# Origin\n",
    "plt.plot(0., 0., 'o')\n",
    "# Axes\n",
    "plt.arrow(0., 0., 100., 0., color = 'r')\n",
    "plt.arrow(0., 0., 0., 100., color = 'g')\n",
    "\n",
    "# Drawing of system {A}\n",
    "# Origin\n",
    "plt.plot(P_Aorg[0,0], P_Aorg[1,0], 'o')\n",
    "# Axes\n",
    "plt.arrow(P_Aorg[0,0], P_Aorg[1,0], 100. * np.cos(theta), 100. * np.sin(theta), color = 'r')\n",
    "plt.arrow(P_Aorg[0,0], P_Aorg[1,0], -100. * np.sin(theta), 100. * np.cos(theta), color = 'g')\n",
    "\n",
    "# Table vertices\n",
    "Npoints = P_tableO.shape[1]\n",
    "tableVert = np.zeros([Npoints + 1, 3])\n",
    "tableVert[:-1,:] = P_tableO.T\n",
    "tableVert[-1,:] = P_tableO[:,0].T\n",
    "plt.plot(tableVert[:,0], tableVert[:,1], 'o-', alpha = 0.7)\n",
    "\n",
    "# Texts\n",
    "plt.text(0., 0., '$O$')\n",
    "plt.text(P_Aorg[0,0], P_Aorg[1,0], '$A$')\n",
    "plt.text(0., 100., '$\\{ O \\}$')\n",
    "plt.text(P_Aorg[0,0], P_Aorg[1,0] + 100., '$\\{ A \\}$')\n",
    "\n",
    "# Axes settings\n",
    "plt.xlabel('$x$ (mm)')\n",
    "plt.ylabel('$y$ (mm)')\n",
    "plt.axis('equal')\n",
    "plt.show()"
   ]
  },
  {
   "cell_type": "markdown",
   "metadata": {},
   "source": [
    "## Arbitrary points"
   ]
  },
  {
   "cell_type": "code",
   "execution_count": 10,
   "metadata": {
    "collapsed": false
   },
   "outputs": [
    {
     "name": "stdout",
     "output_type": "stream",
     "text": [
      "[[ 1447.67766953  -291.96699141   250.        ]\n",
      " [ 1402.42283553  -218.42788617   250.        ]\n",
      " [ 1191.70501474    27.64527369   250.        ]\n",
      " [ 1514.85281374  -246.00505063   250.        ]]\n"
     ]
    }
   ],
   "source": [
    "P_B = np.array([[50., 25., 0.], [70., 109., 0.], [95., 432., 0.], [130., 10., 0.]])\n",
    "P_O = P_Aorg + np.dot(R_AO, P_B.T)\n",
    "print P_O.T"
   ]
  },
  {
   "cell_type": "code",
   "execution_count": 11,
   "metadata": {
    "collapsed": false
   },
   "outputs": [
    {
     "data": {
      "image/png": "[encoded data removed]",
      "text/plain": [
       "<matplotlib.figure.Figure at 0x7423b70>"
      ]
     },
     "metadata": {},
     "output_type": "display_data"
    }
   ],
   "source": [
    "plt.figure()\n",
    "\n",
    "# Drawing of system {0}\n",
    "# Origin\n",
    "plt.plot(0., 0., 'o')\n",
    "# Axes\n",
    "plt.arrow(0., 0., 100., 0., color = 'r')\n",
    "plt.arrow(0., 0., 0., 100., color = 'g')\n",
    "\n",
    "# Drawing of system {A}\n",
    "# Origin\n",
    "plt.plot(P_Aorg[0,0], P_Aorg[1,0], 'o')\n",
    "# Axes\n",
    "plt.arrow(P_Aorg[0,0], P_Aorg[1,0], 100. * np.cos(theta), 100. * np.sin(theta), color = 'r')\n",
    "plt.arrow(P_Aorg[0,0], P_Aorg[1,0], -100. * np.sin(theta), 100. * np.cos(theta), color = 'g')\n",
    "\n",
    "# Table vertices\n",
    "Npoints = P_tableO.shape[1]\n",
    "tableVert = np.zeros([Npoints + 1, 3])\n",
    "tableVert[:-1,:] = P_tableO.T\n",
    "tableVert[-1,:] = P_tableO[:,0].T\n",
    "plt.plot(tableVert[:,0], tableVert[:,1], 'o-', alpha = 0.7)\n",
    "\n",
    "# Points\n",
    "plt.plot(P_O[0,:], P_O[1,:], '.-', alpha = 0.7)\n",
    "\n",
    "# Texts\n",
    "plt.text(0., 0., '$O$')\n",
    "plt.text(P_Aorg[0,0], P_Aorg[1,0], '$A$')\n",
    "plt.text(0., 100., '$\\{ O \\}$')\n",
    "plt.text(P_Aorg[0,0], P_Aorg[1,0] + 100., '$\\{ A \\}$')\n",
    "\n",
    "# Axes settings\n",
    "plt.xlabel('$x$ (mm)')\n",
    "plt.ylabel('$y$ (mm)')\n",
    "plt.axis('equal')\n",
    "plt.show()"
   ]
  }
 ],
 "metadata": {
  "kernelspec": {
   "display_name": "Python 2",
   "language": "python",
   "name": "python2"
  },
  "language_info": {
   "codemirror_mode": {
    "name": "ipython",
    "version": 2
   },
   "file_extension": ".py",
   "mimetype": "text/x-python",
   "name": "python",
   "nbconvert_exporter": "python",
   "pygments_lexer": "ipython2",
   "version": "2.7.13"
  }
 },
 "nbformat": 4,
 "nbformat_minor": 2
}
